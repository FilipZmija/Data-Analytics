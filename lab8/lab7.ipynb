{
 "cells": [
  {
   "cell_type": "code",
   "execution_count": 1,
   "metadata": {},
   "outputs": [],
   "source": [
    "from cmdstanpy import CmdStanModel\n",
    "import arviz as az\n",
    "import numpy as np\n",
    "import matplotlib.pyplot as plt"
   ]
  },
  {
   "cell_type": "code",
   "execution_count": 2,
   "metadata": {},
   "outputs": [
    {
     "name": "stderr",
     "output_type": "stream",
     "text": [
      "INFO:cmdstanpy:compiling stan file C:\\Users\\Filip\\Desktop\\DataAnalysis\\Data-Analytics\\lab8\\code_1.stan to exe file C:\\Users\\Filip\\Desktop\\DataAnalysis\\Data-Analytics\\lab8\\code_1.exe\n",
      "INFO:cmdstanpy:compiled model executable: C:\\Users\\Filip\\Desktop\\DataAnalysis\\Data-Analytics\\lab8\\code_1.exe\n",
      "INFO:cmdstanpy:compiling stan file C:\\Users\\Filip\\Desktop\\DataAnalysis\\Data-Analytics\\lab8\\code_2.stan to exe file C:\\Users\\Filip\\Desktop\\DataAnalysis\\Data-Analytics\\lab8\\code_2.exe\n",
      "INFO:cmdstanpy:compiled model executable: C:\\Users\\Filip\\Desktop\\DataAnalysis\\Data-Analytics\\lab8\\code_2.exe\n",
      "INFO:cmdstanpy:compiling stan file C:\\Users\\Filip\\Desktop\\DataAnalysis\\Data-Analytics\\lab8\\code_3.stan to exe file C:\\Users\\Filip\\Desktop\\DataAnalysis\\Data-Analytics\\lab8\\code_3.exe\n",
      "INFO:cmdstanpy:compiled model executable: C:\\Users\\Filip\\Desktop\\DataAnalysis\\Data-Analytics\\lab8\\code_3.exe\n",
      "INFO:cmdstanpy:compiling stan file C:\\Users\\Filip\\Desktop\\DataAnalysis\\Data-Analytics\\lab8\\code_4.stan to exe file C:\\Users\\Filip\\Desktop\\DataAnalysis\\Data-Analytics\\lab8\\code_4.exe\n",
      "INFO:cmdstanpy:compiled model executable: C:\\Users\\Filip\\Desktop\\DataAnalysis\\Data-Analytics\\lab8\\code_4.exe\n",
      "INFO:cmdstanpy:compiling stan file C:\\Users\\Filip\\Desktop\\DataAnalysis\\Data-Analytics\\lab8\\code_5.stan to exe file C:\\Users\\Filip\\Desktop\\DataAnalysis\\Data-Analytics\\lab8\\code_5.exe\n",
      "INFO:cmdstanpy:compiled model executable: C:\\Users\\Filip\\Desktop\\DataAnalysis\\Data-Analytics\\lab8\\code_5.exe\n"
     ]
    }
   ],
   "source": [
    "model1 = CmdStanModel(stan_file='code_1.stan')\n",
    "model2 = CmdStanModel(stan_file='code_2.stan')\n",
    "model3 = CmdStanModel(stan_file='code_3.stan')\n",
    "model4 = CmdStanModel(stan_file='code_4.stan')\n",
    "model5 = CmdStanModel(stan_file='code_5.stan')"
   ]
  },
  {
   "cell_type": "code",
   "execution_count": 3,
   "metadata": {},
   "outputs": [],
   "source": [
    "F=len(\"Filip\")\n",
    "L=len(\"Zmijewski\")\n",
    "N = (L+F)*100\n",
    "stan_data = {\n",
    "    \"N\":N,\n",
    "}"
   ]
  },
  {
   "cell_type": "code",
   "execution_count": 4,
   "metadata": {},
   "outputs": [
    {
     "name": "stderr",
     "output_type": "stream",
     "text": [
      "INFO:cmdstanpy:CmdStan start processing\n",
      "chain 1 |\u001b[34m██████████\u001b[0m| 00:01 Sampling completed                      "
     ]
    },
    {
     "name": "stdout",
     "output_type": "stream",
     "text": [
      "                                                                                "
     ]
    },
    {
     "name": "stderr",
     "output_type": "stream",
     "text": [
      "\n",
      "INFO:cmdstanpy:CmdStan done processing.\n"
     ]
    },
    {
     "name": "stdout",
     "output_type": "stream",
     "text": [
      "\n"
     ]
    },
    {
     "name": "stderr",
     "output_type": "stream",
     "text": [
      "INFO:cmdstanpy:CmdStan start processing\n",
      "chain 1 |\u001b[34m██████████\u001b[0m| 00:04 Sampling completed                      "
     ]
    },
    {
     "name": "stdout",
     "output_type": "stream",
     "text": [
      "                                                                                "
     ]
    },
    {
     "name": "stderr",
     "output_type": "stream",
     "text": [
      "\n",
      "INFO:cmdstanpy:CmdStan done processing.\n"
     ]
    },
    {
     "name": "stdout",
     "output_type": "stream",
     "text": [
      "\n"
     ]
    }
   ],
   "source": [
    "fit_1 = model1.sample(data={'N':N}, \n",
    "                            fixed_param=True, \n",
    "                            iter_sampling=1000, \n",
    "                            iter_warmup=0, \n",
    "                            chains = 1)\n",
    "\n",
    "fit_2 = model2.sample(data={'N':N}, \n",
    "                            fixed_param=True, \n",
    "                            iter_sampling=1000, \n",
    "                            iter_warmup=0, \n",
    "                            chains = 1)\n",
    "\n",
    "y1 = fit_1.stan_variable('y')\n",
    "y2 = fit_2.stan_variable('y')\n"
   ]
  },
  {
   "cell_type": "code",
   "execution_count": 5,
   "metadata": {},
   "outputs": [
    {
     "name": "stderr",
     "output_type": "stream",
     "text": [
      "INFO:cmdstanpy:CmdStan start processing\n",
      "chain 1 |\u001b[34m██████████\u001b[0m| 00:02 Sampling completed                      "
     ]
    },
    {
     "name": "stdout",
     "output_type": "stream",
     "text": [
      "                                                                                "
     ]
    },
    {
     "name": "stderr",
     "output_type": "stream",
     "text": [
      "\n",
      "INFO:cmdstanpy:CmdStan done processing.\n"
     ]
    },
    {
     "name": "stdout",
     "output_type": "stream",
     "text": [
      "\n"
     ]
    },
    {
     "name": "stderr",
     "output_type": "stream",
     "text": [
      "INFO:cmdstanpy:CmdStan start processing\n",
      "chain 1 |\u001b[34m██████████\u001b[0m| 00:02 Sampling completed                      "
     ]
    },
    {
     "name": "stdout",
     "output_type": "stream",
     "text": [
      "                                                                                "
     ]
    },
    {
     "name": "stderr",
     "output_type": "stream",
     "text": [
      "\n",
      "INFO:cmdstanpy:CmdStan done processing.\n"
     ]
    },
    {
     "name": "stdout",
     "output_type": "stream",
     "text": [
      "\n"
     ]
    }
   ],
   "source": [
    "fit_3 = model3.sample(data={'N':N, 'y':y1[0]} ,\n",
    "                            fixed_param=True, \n",
    "                            iter_sampling=1000, \n",
    "                            iter_warmup=0, \n",
    "                            chains = 1)\n",
    "\n",
    "fit_4 = model4.sample(data={'N':N, 'y':y1[0]} ,\n",
    "                            fixed_param=True, \n",
    "                            iter_sampling=1000, \n",
    "                            iter_warmup=0, \n",
    "                            chains = 1)"
   ]
  },
  {
   "cell_type": "markdown",
   "metadata": {},
   "source": [
    "exercise 2"
   ]
  },
  {
   "cell_type": "code",
   "execution_count": 9,
   "metadata": {},
   "outputs": [
    {
     "name": "stderr",
     "output_type": "stream",
     "text": [
      "c:\\Users\\Filip\\anaconda3\\envs\\Modelowanie\\lib\\site-packages\\arviz\\stats\\stats.py:694: UserWarning: Estimated shape parameter of Pareto distribution is greater than 0.7 for one or more samples. You should consider using a more robust model, this is because importance sampling is less likely to work well if the marginal posterior and LOO posterior are very different. This is more likely to happen with a non-robust model and highly influential observations.\n",
      "  warnings.warn(\n",
      "c:\\Users\\Filip\\anaconda3\\envs\\Modelowanie\\lib\\site-packages\\arviz\\stats\\stats.py:248: FutureWarning: The frame.append method is deprecated and will be removed from pandas in a future version. Use pandas.concat instead.\n",
      "  ics = ics.append([ic_func(dataset, pointwise=True, scale=scale, var_name=var_name)])\n",
      "c:\\Users\\Filip\\anaconda3\\envs\\Modelowanie\\lib\\site-packages\\arviz\\stats\\stats.py:694: UserWarning: Estimated shape parameter of Pareto distribution is greater than 0.7 for one or more samples. You should consider using a more robust model, this is because importance sampling is less likely to work well if the marginal posterior and LOO posterior are very different. This is more likely to happen with a non-robust model and highly influential observations.\n",
      "  warnings.warn(\n",
      "c:\\Users\\Filip\\anaconda3\\envs\\Modelowanie\\lib\\site-packages\\arviz\\stats\\stats.py:248: FutureWarning: The frame.append method is deprecated and will be removed from pandas in a future version. Use pandas.concat instead.\n",
      "  ics = ics.append([ic_func(dataset, pointwise=True, scale=scale, var_name=var_name)])\n",
      "c:\\Users\\Filip\\anaconda3\\envs\\Modelowanie\\lib\\site-packages\\arviz\\stats\\stats.py:248: FutureWarning: The frame.append method is deprecated and will be removed from pandas in a future version. Use pandas.concat instead.\n",
      "  ics = ics.append([ic_func(dataset, pointwise=True, scale=scale, var_name=var_name)])\n",
      "c:\\Users\\Filip\\anaconda3\\envs\\Modelowanie\\lib\\site-packages\\arviz\\stats\\stats.py:248: FutureWarning: The frame.append method is deprecated and will be removed from pandas in a future version. Use pandas.concat instead.\n",
      "  ics = ics.append([ic_func(dataset, pointwise=True, scale=scale, var_name=var_name)])\n"
     ]
    },
    {
     "data": {
      "text/plain": [
       "<AxesSubplot:xlabel='Log'>"
      ]
     },
     "execution_count": 9,
     "metadata": {},
     "output_type": "execute_result"
    },
    {
     "data": {
      "image/png": "[encoded data removed]",
      "text/plain": [
       "<Figure size 432x144 with 1 Axes>"
      ]
     },
     "metadata": {
      "needs_background": "light"
     },
     "output_type": "display_data"
    },
    {
     "data": {
      "image/png": "[encoded data removed]",
      "text/plain": [
       "<Figure size 432x144 with 1 Axes>"
      ]
     },
     "metadata": {
      "needs_background": "light"
     },
     "output_type": "display_data"
    }
   ],
   "source": [
    "compare_dict = {'fit_3': fit_3, 'fit_4': fit_4}\n",
    "loo_compare = az.compare(compare_dict, ic=\"loo\")\n",
    "waic_compare = az.compare(compare_dict, ic=\"waic\")\n",
    "az.plot_compare(loo_compare)\n",
    "az.plot_compare(waic_compare)"
   ]
  }
 ],
 "metadata": {
  "interpreter": {
   "hash": "5b65ddbc8cf72e535578d9c0ff84cf7dd14b71cda24cdf278369c428ce55bdf9"
  },
  "kernelspec": {
   "display_name": "Python 3.9.10 ('Modelowanie')",
   "language": "python",
   "name": "python3"
  },
  "language_info": {
   "codemirror_mode": {
    "name": "ipython",
    "version": 3
   },
   "file_extension": ".py",
   "mimetype": "text/x-python",
   "name": "python",
   "nbconvert_exporter": "python",
   "pygments_lexer": "ipython3",
   "version": "3.9.10"
  },
  "orig_nbformat": 4
 },
 "nbformat": 4,
 "nbformat_minor": 2
}
