{
 "cells": [
  {
   "cell_type": "markdown",
   "metadata": {},
   "source": [
    "# Lab 5 - General Linear Models: Logistic regression"
   ]
  },
  {
   "cell_type": "code",
   "execution_count": 2,
   "metadata": {},
   "outputs": [],
   "source": [
    "from cmdstanpy import CmdStanModel\n",
    "\n",
    "import arviz as az\n",
    "import numpy as np\n",
    "import scipy.stats as stats\n",
    "\n",
    "import pandas as pd\n",
    "\n",
    "import matplotlib.pyplot as plt\n",
    "import matplotlib as mpl"
   ]
  },
  {
   "cell_type": "markdown",
   "metadata": {},
   "source": [
    "#### Read data from csv file"
   ]
  },
  {
   "cell_type": "code",
   "execution_count": 3,
   "metadata": {},
   "outputs": [
    {
     "data": {
      "text/html": [
       "<div>\n",
       "<style scoped>\n",
       "    .dataframe tbody tr th:only-of-type {\n",
       "        vertical-align: middle;\n",
       "    }\n",
       "\n",
       "    .dataframe tbody tr th {\n",
       "        vertical-align: top;\n",
       "    }\n",
       "\n",
       "    .dataframe thead th {\n",
       "        text-align: right;\n",
       "    }\n",
       "</style>\n",
       "<table border=\"1\" class=\"dataframe\">\n",
       "  <thead>\n",
       "    <tr style=\"text-align: right;\">\n",
       "      <th></th>\n",
       "      <th>Unnamed: 0</th>\n",
       "      <th>x1</th>\n",
       "      <th>x2</th>\n",
       "      <th>x3</th>\n",
       "      <th>x4</th>\n",
       "      <th>x5</th>\n",
       "      <th>y</th>\n",
       "    </tr>\n",
       "  </thead>\n",
       "  <tbody>\n",
       "    <tr>\n",
       "      <th>count</th>\n",
       "      <td>500.000000</td>\n",
       "      <td>500.000000</td>\n",
       "      <td>500.000000</td>\n",
       "      <td>500.000000</td>\n",
       "      <td>5.000000e+02</td>\n",
       "      <td>5.000000e+02</td>\n",
       "      <td>500.000000</td>\n",
       "    </tr>\n",
       "    <tr>\n",
       "      <th>mean</th>\n",
       "      <td>249.500000</td>\n",
       "      <td>-0.015777</td>\n",
       "      <td>0.334002</td>\n",
       "      <td>-0.001484</td>\n",
       "      <td>2.022817e-01</td>\n",
       "      <td>2.770684e-03</td>\n",
       "      <td>0.494000</td>\n",
       "    </tr>\n",
       "    <tr>\n",
       "      <th>std</th>\n",
       "      <td>144.481833</td>\n",
       "      <td>0.578292</td>\n",
       "      <td>0.301507</td>\n",
       "      <td>0.383111</td>\n",
       "      <td>2.738984e-01</td>\n",
       "      <td>3.107472e-01</td>\n",
       "      <td>0.500465</td>\n",
       "    </tr>\n",
       "    <tr>\n",
       "      <th>min</th>\n",
       "      <td>0.000000</td>\n",
       "      <td>-0.997592</td>\n",
       "      <td>0.000005</td>\n",
       "      <td>-0.992794</td>\n",
       "      <td>2.276756e-11</td>\n",
       "      <td>-9.880191e-01</td>\n",
       "      <td>0.000000</td>\n",
       "    </tr>\n",
       "    <tr>\n",
       "      <th>25%</th>\n",
       "      <td>124.750000</td>\n",
       "      <td>-0.515144</td>\n",
       "      <td>0.064052</td>\n",
       "      <td>-0.136718</td>\n",
       "      <td>4.102616e-03</td>\n",
       "      <td>-3.628888e-02</td>\n",
       "      <td>0.000000</td>\n",
       "    </tr>\n",
       "    <tr>\n",
       "      <th>50%</th>\n",
       "      <td>249.500000</td>\n",
       "      <td>-0.026042</td>\n",
       "      <td>0.254724</td>\n",
       "      <td>-0.000018</td>\n",
       "      <td>6.488454e-02</td>\n",
       "      <td>-1.278838e-08</td>\n",
       "      <td>0.000000</td>\n",
       "    </tr>\n",
       "    <tr>\n",
       "      <th>75%</th>\n",
       "      <td>374.250000</td>\n",
       "      <td>0.475396</td>\n",
       "      <td>0.555544</td>\n",
       "      <td>0.107440</td>\n",
       "      <td>3.086316e-01</td>\n",
       "      <td>2.428165e-02</td>\n",
       "      <td>1.000000</td>\n",
       "    </tr>\n",
       "    <tr>\n",
       "      <th>max</th>\n",
       "      <td>499.000000</td>\n",
       "      <td>0.999652</td>\n",
       "      <td>0.999305</td>\n",
       "      <td>0.998957</td>\n",
       "      <td>9.986100e-01</td>\n",
       "      <td>9.982628e-01</td>\n",
       "      <td>1.000000</td>\n",
       "    </tr>\n",
       "  </tbody>\n",
       "</table>\n",
       "</div>"
      ],
      "text/plain": [
       "       Unnamed: 0          x1          x2          x3            x4  \\\n",
       "count  500.000000  500.000000  500.000000  500.000000  5.000000e+02   \n",
       "mean   249.500000   -0.015777    0.334002   -0.001484  2.022817e-01   \n",
       "std    144.481833    0.578292    0.301507    0.383111  2.738984e-01   \n",
       "min      0.000000   -0.997592    0.000005   -0.992794  2.276756e-11   \n",
       "25%    124.750000   -0.515144    0.064052   -0.136718  4.102616e-03   \n",
       "50%    249.500000   -0.026042    0.254724   -0.000018  6.488454e-02   \n",
       "75%    374.250000    0.475396    0.555544    0.107440  3.086316e-01   \n",
       "max    499.000000    0.999652    0.999305    0.998957  9.986100e-01   \n",
       "\n",
       "                 x5           y  \n",
       "count  5.000000e+02  500.000000  \n",
       "mean   2.770684e-03    0.494000  \n",
       "std    3.107472e-01    0.500465  \n",
       "min   -9.880191e-01    0.000000  \n",
       "25%   -3.628888e-02    0.000000  \n",
       "50%   -1.278838e-08    0.000000  \n",
       "75%    2.428165e-02    1.000000  \n",
       "max    9.982628e-01    1.000000  "
      ]
     },
     "execution_count": 3,
     "metadata": {},
     "output_type": "execute_result"
    }
   ],
   "source": [
    "df = pd.read_csv(\"logistic_reg_data.csv\")\n",
    "df.describe()"
   ]
  },
  {
   "cell_type": "markdown",
   "metadata": {},
   "source": [
    "### Prior selection\n"
   ]
  },
  {
   "cell_type": "code",
   "execution_count": 4,
   "metadata": {},
   "outputs": [
    {
     "name": "stderr",
     "output_type": "stream",
     "text": [
      "INFO:cmdstanpy:found newer exe file, not recompiling\n"
     ]
    }
   ],
   "source": [
    "model_ppc1 = CmdStanModel(stan_file='logistic_regression_ppc.stan')"
   ]
  },
  {
   "cell_type": "code",
   "execution_count": 5,
   "metadata": {},
   "outputs": [
    {
     "name": "stderr",
     "output_type": "stream",
     "text": [
      "INFO:cmdstanpy:CmdStan start processing\n",
      "chain 1 |\u001b[34m██████████\u001b[0m| 00:00 Sampling completed                      "
     ]
    },
    {
     "name": "stdout",
     "output_type": "stream",
     "text": [
      "                                                                                "
     ]
    },
    {
     "name": "stderr",
     "output_type": "stream",
     "text": [
      "\n",
      "INFO:cmdstanpy:CmdStan done processing.\n"
     ]
    },
    {
     "name": "stdout",
     "output_type": "stream",
     "text": [
      "\n"
     ]
    }
   ],
   "source": [
    "R=1000\n",
    "data_ppc= dict(N = df.shape[0],\n",
    "                 M = 5,\n",
    "                 X = df.iloc[:,0:5].values,\n",
    "                 sigma=10)\n",
    "sim_ppc1=model_ppc1.sample(data=data_ppc, \n",
    "                           iter_sampling=R, iter_warmup=0, \n",
    "                           chains=1, \n",
    "                           refresh=R,\n",
    "                           fixed_param=True,\n",
    "                           seed=29042020)"
   ]
  },
  {
   "cell_type": "code",
   "execution_count": 6,
   "metadata": {},
   "outputs": [
    {
     "data": {
      "text/html": [
       "<div>\n",
       "<style scoped>\n",
       "    .dataframe tbody tr th:only-of-type {\n",
       "        vertical-align: middle;\n",
       "    }\n",
       "\n",
       "    .dataframe tbody tr th {\n",
       "        vertical-align: top;\n",
       "    }\n",
       "\n",
       "    .dataframe thead th {\n",
       "        text-align: right;\n",
       "    }\n",
       "</style>\n",
       "<table border=\"1\" class=\"dataframe\">\n",
       "  <thead>\n",
       "    <tr style=\"text-align: right;\">\n",
       "      <th></th>\n",
       "      <th>lp__</th>\n",
       "      <th>accept_stat__</th>\n",
       "      <th>prob_ppc[1]</th>\n",
       "      <th>prob_ppc[2]</th>\n",
       "      <th>prob_ppc[3]</th>\n",
       "      <th>prob_ppc[4]</th>\n",
       "      <th>prob_ppc[5]</th>\n",
       "      <th>prob_ppc[6]</th>\n",
       "      <th>prob_ppc[7]</th>\n",
       "      <th>prob_ppc[8]</th>\n",
       "      <th>...</th>\n",
       "      <th>prob_ppc[497]</th>\n",
       "      <th>prob_ppc[498]</th>\n",
       "      <th>prob_ppc[499]</th>\n",
       "      <th>prob_ppc[500]</th>\n",
       "      <th>beta[1]</th>\n",
       "      <th>beta[2]</th>\n",
       "      <th>beta[3]</th>\n",
       "      <th>beta[4]</th>\n",
       "      <th>beta[5]</th>\n",
       "      <th>alpha</th>\n",
       "    </tr>\n",
       "  </thead>\n",
       "  <tbody>\n",
       "    <tr>\n",
       "      <th>0</th>\n",
       "      <td>0.0</td>\n",
       "      <td>0.0</td>\n",
       "      <td>0.183287</td>\n",
       "      <td>1.000000</td>\n",
       "      <td>1.000000e+00</td>\n",
       "      <td>1.000000e+00</td>\n",
       "      <td>1.000000e+00</td>\n",
       "      <td>1.000000e+00</td>\n",
       "      <td>1.000000e+00</td>\n",
       "      <td>1.000000e+00</td>\n",
       "      <td>...</td>\n",
       "      <td>1.0</td>\n",
       "      <td>1.0</td>\n",
       "      <td>1.0</td>\n",
       "      <td>1.0</td>\n",
       "      <td>27.081700</td>\n",
       "      <td>7.771810</td>\n",
       "      <td>-12.72270</td>\n",
       "      <td>1.27591</td>\n",
       "      <td>-13.89420</td>\n",
       "      <td>2.461620</td>\n",
       "    </tr>\n",
       "    <tr>\n",
       "      <th>1</th>\n",
       "      <td>0.0</td>\n",
       "      <td>0.0</td>\n",
       "      <td>0.001395</td>\n",
       "      <td>1.000000</td>\n",
       "      <td>9.999850e-01</td>\n",
       "      <td>1.000000e+00</td>\n",
       "      <td>1.000000e+00</td>\n",
       "      <td>1.000000e+00</td>\n",
       "      <td>1.000000e+00</td>\n",
       "      <td>1.000000e+00</td>\n",
       "      <td>...</td>\n",
       "      <td>1.0</td>\n",
       "      <td>1.0</td>\n",
       "      <td>1.0</td>\n",
       "      <td>1.0</td>\n",
       "      <td>11.987300</td>\n",
       "      <td>22.653300</td>\n",
       "      <td>9.70844</td>\n",
       "      <td>5.55378</td>\n",
       "      <td>5.98941</td>\n",
       "      <td>-0.220250</td>\n",
       "    </tr>\n",
       "    <tr>\n",
       "      <th>2</th>\n",
       "      <td>0.0</td>\n",
       "      <td>0.0</td>\n",
       "      <td>0.003400</td>\n",
       "      <td>0.999978</td>\n",
       "      <td>9.937780e-01</td>\n",
       "      <td>1.000000e+00</td>\n",
       "      <td>1.000000e+00</td>\n",
       "      <td>1.000000e+00</td>\n",
       "      <td>1.000000e+00</td>\n",
       "      <td>1.000000e+00</td>\n",
       "      <td>...</td>\n",
       "      <td>1.0</td>\n",
       "      <td>1.0</td>\n",
       "      <td>1.0</td>\n",
       "      <td>1.0</td>\n",
       "      <td>13.120500</td>\n",
       "      <td>-3.421260</td>\n",
       "      <td>-3.11130</td>\n",
       "      <td>16.60650</td>\n",
       "      <td>-1.88132</td>\n",
       "      <td>-5.897550</td>\n",
       "    </tr>\n",
       "    <tr>\n",
       "      <th>3</th>\n",
       "      <td>0.0</td>\n",
       "      <td>0.0</td>\n",
       "      <td>0.105054</td>\n",
       "      <td>0.999762</td>\n",
       "      <td>9.988950e-01</td>\n",
       "      <td>9.988680e-01</td>\n",
       "      <td>9.998770e-01</td>\n",
       "      <td>9.999960e-01</td>\n",
       "      <td>1.000000e+00</td>\n",
       "      <td>1.000000e+00</td>\n",
       "      <td>...</td>\n",
       "      <td>1.0</td>\n",
       "      <td>1.0</td>\n",
       "      <td>1.0</td>\n",
       "      <td>1.0</td>\n",
       "      <td>2.843390</td>\n",
       "      <td>-0.719950</td>\n",
       "      <td>1.15899</td>\n",
       "      <td>6.39209</td>\n",
       "      <td>8.91681</td>\n",
       "      <td>-2.374610</td>\n",
       "    </tr>\n",
       "    <tr>\n",
       "      <th>4</th>\n",
       "      <td>0.0</td>\n",
       "      <td>0.0</td>\n",
       "      <td>0.988406</td>\n",
       "      <td>0.000006</td>\n",
       "      <td>1.000000e+00</td>\n",
       "      <td>1.000000e+00</td>\n",
       "      <td>9.293960e-01</td>\n",
       "      <td>3.276330e-02</td>\n",
       "      <td>9.999810e-01</td>\n",
       "      <td>9.999990e-01</td>\n",
       "      <td>...</td>\n",
       "      <td>1.0</td>\n",
       "      <td>1.0</td>\n",
       "      <td>1.0</td>\n",
       "      <td>1.0</td>\n",
       "      <td>0.966513</td>\n",
       "      <td>-17.072100</td>\n",
       "      <td>0.98292</td>\n",
       "      <td>-6.49448</td>\n",
       "      <td>11.80830</td>\n",
       "      <td>-1.429630</td>\n",
       "    </tr>\n",
       "    <tr>\n",
       "      <th>...</th>\n",
       "      <td>...</td>\n",
       "      <td>...</td>\n",
       "      <td>...</td>\n",
       "      <td>...</td>\n",
       "      <td>...</td>\n",
       "      <td>...</td>\n",
       "      <td>...</td>\n",
       "      <td>...</td>\n",
       "      <td>...</td>\n",
       "      <td>...</td>\n",
       "      <td>...</td>\n",
       "      <td>...</td>\n",
       "      <td>...</td>\n",
       "      <td>...</td>\n",
       "      <td>...</td>\n",
       "      <td>...</td>\n",
       "      <td>...</td>\n",
       "      <td>...</td>\n",
       "      <td>...</td>\n",
       "      <td>...</td>\n",
       "      <td>...</td>\n",
       "    </tr>\n",
       "    <tr>\n",
       "      <th>995</th>\n",
       "      <td>0.0</td>\n",
       "      <td>0.0</td>\n",
       "      <td>0.261543</td>\n",
       "      <td>0.999059</td>\n",
       "      <td>9.999940e-01</td>\n",
       "      <td>1.000000e+00</td>\n",
       "      <td>1.000000e+00</td>\n",
       "      <td>1.000000e+00</td>\n",
       "      <td>1.000000e+00</td>\n",
       "      <td>1.000000e+00</td>\n",
       "      <td>...</td>\n",
       "      <td>1.0</td>\n",
       "      <td>1.0</td>\n",
       "      <td>1.0</td>\n",
       "      <td>1.0</td>\n",
       "      <td>7.998350</td>\n",
       "      <td>0.786523</td>\n",
       "      <td>-9.13510</td>\n",
       "      <td>1.56640</td>\n",
       "      <td>7.67012</td>\n",
       "      <td>0.112832</td>\n",
       "    </tr>\n",
       "    <tr>\n",
       "      <th>996</th>\n",
       "      <td>0.0</td>\n",
       "      <td>0.0</td>\n",
       "      <td>0.900896</td>\n",
       "      <td>0.254183</td>\n",
       "      <td>9.972670e-01</td>\n",
       "      <td>1.115060e-01</td>\n",
       "      <td>6.653730e-05</td>\n",
       "      <td>2.696730e-06</td>\n",
       "      <td>5.196770e-06</td>\n",
       "      <td>1.235530e-06</td>\n",
       "      <td>...</td>\n",
       "      <td>0.0</td>\n",
       "      <td>0.0</td>\n",
       "      <td>0.0</td>\n",
       "      <td>0.0</td>\n",
       "      <td>-2.438420</td>\n",
       "      <td>-4.535120</td>\n",
       "      <td>6.52074</td>\n",
       "      <td>0.27651</td>\n",
       "      <td>0.91221</td>\n",
       "      <td>0.098090</td>\n",
       "    </tr>\n",
       "    <tr>\n",
       "      <th>997</th>\n",
       "      <td>0.0</td>\n",
       "      <td>0.0</td>\n",
       "      <td>0.789632</td>\n",
       "      <td>0.000560</td>\n",
       "      <td>3.397850e-09</td>\n",
       "      <td>7.047700e-10</td>\n",
       "      <td>8.571500e-12</td>\n",
       "      <td>2.941140e-15</td>\n",
       "      <td>6.341000e-18</td>\n",
       "      <td>3.968210e-21</td>\n",
       "      <td>...</td>\n",
       "      <td>0.0</td>\n",
       "      <td>0.0</td>\n",
       "      <td>0.0</td>\n",
       "      <td>0.0</td>\n",
       "      <td>-6.799870</td>\n",
       "      <td>-1.190060</td>\n",
       "      <td>-6.19289</td>\n",
       "      <td>4.38884</td>\n",
       "      <td>0.72679</td>\n",
       "      <td>1.707480</td>\n",
       "    </tr>\n",
       "    <tr>\n",
       "      <th>998</th>\n",
       "      <td>0.0</td>\n",
       "      <td>0.0</td>\n",
       "      <td>1.000000</td>\n",
       "      <td>1.000000</td>\n",
       "      <td>1.000000e+00</td>\n",
       "      <td>1.000000e+00</td>\n",
       "      <td>1.000000e+00</td>\n",
       "      <td>1.000000e+00</td>\n",
       "      <td>1.000000e+00</td>\n",
       "      <td>1.000000e+00</td>\n",
       "      <td>...</td>\n",
       "      <td>1.0</td>\n",
       "      <td>1.0</td>\n",
       "      <td>1.0</td>\n",
       "      <td>1.0</td>\n",
       "      <td>5.223800</td>\n",
       "      <td>-7.571770</td>\n",
       "      <td>19.73160</td>\n",
       "      <td>-3.85811</td>\n",
       "      <td>-4.31394</td>\n",
       "      <td>10.289300</td>\n",
       "    </tr>\n",
       "    <tr>\n",
       "      <th>999</th>\n",
       "      <td>0.0</td>\n",
       "      <td>0.0</td>\n",
       "      <td>0.995231</td>\n",
       "      <td>1.000000</td>\n",
       "      <td>1.000000e+00</td>\n",
       "      <td>1.000000e+00</td>\n",
       "      <td>1.000000e+00</td>\n",
       "      <td>1.000000e+00</td>\n",
       "      <td>1.000000e+00</td>\n",
       "      <td>1.000000e+00</td>\n",
       "      <td>...</td>\n",
       "      <td>1.0</td>\n",
       "      <td>1.0</td>\n",
       "      <td>1.0</td>\n",
       "      <td>1.0</td>\n",
       "      <td>7.705390</td>\n",
       "      <td>2.083350</td>\n",
       "      <td>15.19980</td>\n",
       "      <td>4.82109</td>\n",
       "      <td>-6.60703</td>\n",
       "      <td>4.684500</td>\n",
       "    </tr>\n",
       "  </tbody>\n",
       "</table>\n",
       "<p>1000 rows × 508 columns</p>\n",
       "</div>"
      ],
      "text/plain": [
       "     lp__  accept_stat__  prob_ppc[1]  prob_ppc[2]   prob_ppc[3]  \\\n",
       "0     0.0            0.0     0.183287     1.000000  1.000000e+00   \n",
       "1     0.0            0.0     0.001395     1.000000  9.999850e-01   \n",
       "2     0.0            0.0     0.003400     0.999978  9.937780e-01   \n",
       "3     0.0            0.0     0.105054     0.999762  9.988950e-01   \n",
       "4     0.0            0.0     0.988406     0.000006  1.000000e+00   \n",
       "..    ...            ...          ...          ...           ...   \n",
       "995   0.0            0.0     0.261543     0.999059  9.999940e-01   \n",
       "996   0.0            0.0     0.900896     0.254183  9.972670e-01   \n",
       "997   0.0            0.0     0.789632     0.000560  3.397850e-09   \n",
       "998   0.0            0.0     1.000000     1.000000  1.000000e+00   \n",
       "999   0.0            0.0     0.995231     1.000000  1.000000e+00   \n",
       "\n",
       "      prob_ppc[4]   prob_ppc[5]   prob_ppc[6]   prob_ppc[7]   prob_ppc[8]  \\\n",
       "0    1.000000e+00  1.000000e+00  1.000000e+00  1.000000e+00  1.000000e+00   \n",
       "1    1.000000e+00  1.000000e+00  1.000000e+00  1.000000e+00  1.000000e+00   \n",
       "2    1.000000e+00  1.000000e+00  1.000000e+00  1.000000e+00  1.000000e+00   \n",
       "3    9.988680e-01  9.998770e-01  9.999960e-01  1.000000e+00  1.000000e+00   \n",
       "4    1.000000e+00  9.293960e-01  3.276330e-02  9.999810e-01  9.999990e-01   \n",
       "..            ...           ...           ...           ...           ...   \n",
       "995  1.000000e+00  1.000000e+00  1.000000e+00  1.000000e+00  1.000000e+00   \n",
       "996  1.115060e-01  6.653730e-05  2.696730e-06  5.196770e-06  1.235530e-06   \n",
       "997  7.047700e-10  8.571500e-12  2.941140e-15  6.341000e-18  3.968210e-21   \n",
       "998  1.000000e+00  1.000000e+00  1.000000e+00  1.000000e+00  1.000000e+00   \n",
       "999  1.000000e+00  1.000000e+00  1.000000e+00  1.000000e+00  1.000000e+00   \n",
       "\n",
       "     ...  prob_ppc[497]  prob_ppc[498]  prob_ppc[499]  prob_ppc[500]  \\\n",
       "0    ...            1.0            1.0            1.0            1.0   \n",
       "1    ...            1.0            1.0            1.0            1.0   \n",
       "2    ...            1.0            1.0            1.0            1.0   \n",
       "3    ...            1.0            1.0            1.0            1.0   \n",
       "4    ...            1.0            1.0            1.0            1.0   \n",
       "..   ...            ...            ...            ...            ...   \n",
       "995  ...            1.0            1.0            1.0            1.0   \n",
       "996  ...            0.0            0.0            0.0            0.0   \n",
       "997  ...            0.0            0.0            0.0            0.0   \n",
       "998  ...            1.0            1.0            1.0            1.0   \n",
       "999  ...            1.0            1.0            1.0            1.0   \n",
       "\n",
       "       beta[1]    beta[2]   beta[3]   beta[4]   beta[5]      alpha  \n",
       "0    27.081700   7.771810 -12.72270   1.27591 -13.89420   2.461620  \n",
       "1    11.987300  22.653300   9.70844   5.55378   5.98941  -0.220250  \n",
       "2    13.120500  -3.421260  -3.11130  16.60650  -1.88132  -5.897550  \n",
       "3     2.843390  -0.719950   1.15899   6.39209   8.91681  -2.374610  \n",
       "4     0.966513 -17.072100   0.98292  -6.49448  11.80830  -1.429630  \n",
       "..         ...        ...       ...       ...       ...        ...  \n",
       "995   7.998350   0.786523  -9.13510   1.56640   7.67012   0.112832  \n",
       "996  -2.438420  -4.535120   6.52074   0.27651   0.91221   0.098090  \n",
       "997  -6.799870  -1.190060  -6.19289   4.38884   0.72679   1.707480  \n",
       "998   5.223800  -7.571770  19.73160  -3.85811  -4.31394  10.289300  \n",
       "999   7.705390   2.083350  15.19980   4.82109  -6.60703   4.684500  \n",
       "\n",
       "[1000 rows x 508 columns]"
      ]
     },
     "execution_count": 6,
     "metadata": {},
     "output_type": "execute_result"
    }
   ],
   "source": [
    "df = sim_ppc1.draws_pd()\n",
    "df"
   ]
  },
  {
   "cell_type": "markdown",
   "metadata": {},
   "source": [
    "#### Task 1.\n",
    "\n",
    "1. Plot histograms of beta for prior model\n",
    "2. Plot again the same histograms but this time with other sigma values. For instace use values: 5, 2, 0.75.\n",
    "3. Consider which result should be taken into account when selecting prior."
   ]
  },
  {
   "cell_type": "markdown",
   "metadata": {},
   "source": [
    "### Posterior inference"
   ]
  },
  {
   "cell_type": "code",
   "execution_count": 7,
   "metadata": {},
   "outputs": [
    {
     "data": {
      "image/png": "[encoded data removed]",
      "text/plain": [
       "<Figure size 432x288 with 1 Axes>"
      ]
     },
     "metadata": {
      "needs_background": "light"
     },
     "output_type": "display_data"
    }
   ],
   "source": [
    "df_b = df.loc[:, 'prob_ppc[1]':'prob_ppc[500]']\n",
    "\n",
    "df_b.plot(kind='hist', bins=40, alpha=0.2, legend = False)\n",
    "plt.show()"
   ]
  },
  {
   "cell_type": "code",
   "execution_count": 9,
   "metadata": {},
   "outputs": [
    {
     "name": "stderr",
     "output_type": "stream",
     "text": [
      "INFO:cmdstanpy:CmdStan start processing\n",
      "chain 1 |\u001b[34m██████████\u001b[0m| 00:01 Sampling completed                      "
     ]
    },
    {
     "name": "stdout",
     "output_type": "stream",
     "text": [
      "                                                                                "
     ]
    },
    {
     "name": "stderr",
     "output_type": "stream",
     "text": [
      "\n",
      "INFO:cmdstanpy:CmdStan done processing.\n"
     ]
    },
    {
     "name": "stdout",
     "output_type": "stream",
     "text": [
      "\n"
     ]
    },
    {
     "data": {
      "image/png": "[encoded data removed]",
      "text/plain": [
       "<Figure size 432x288 with 1 Axes>"
      ]
     },
     "metadata": {
      "needs_background": "light"
     },
     "output_type": "display_data"
    },
    {
     "name": "stderr",
     "output_type": "stream",
     "text": [
      "INFO:cmdstanpy:CmdStan start processing\n",
      "chain 1 |\u001b[34m██████████\u001b[0m| 00:02 Sampling completed                      "
     ]
    },
    {
     "name": "stdout",
     "output_type": "stream",
     "text": [
      "                                                                                "
     ]
    },
    {
     "name": "stderr",
     "output_type": "stream",
     "text": [
      "\n",
      "INFO:cmdstanpy:CmdStan done processing.\n"
     ]
    },
    {
     "name": "stdout",
     "output_type": "stream",
     "text": [
      "\n"
     ]
    },
    {
     "data": {
      "image/png": "[encoded data removed]",
      "text/plain": [
       "<Figure size 432x288 with 1 Axes>"
      ]
     },
     "metadata": {
      "needs_background": "light"
     },
     "output_type": "display_data"
    },
    {
     "name": "stderr",
     "output_type": "stream",
     "text": [
      "INFO:cmdstanpy:CmdStan start processing\n",
      "chain 1 |\u001b[34m██████████\u001b[0m| 00:02 Sampling completed                      "
     ]
    },
    {
     "name": "stdout",
     "output_type": "stream",
     "text": [
      "                                                                                "
     ]
    },
    {
     "name": "stderr",
     "output_type": "stream",
     "text": [
      "\n",
      "INFO:cmdstanpy:CmdStan done processing.\n"
     ]
    },
    {
     "name": "stdout",
     "output_type": "stream",
     "text": [
      "\n"
     ]
    },
    {
     "data": {
      "image/png": "[encoded data removed]",
      "text/plain": [
       "<Figure size 432x288 with 1 Axes>"
      ]
     },
     "metadata": {
      "needs_background": "light"
     },
     "output_type": "display_data"
    },
    {
     "name": "stderr",
     "output_type": "stream",
     "text": [
      "INFO:cmdstanpy:CmdStan start processing\n",
      "chain 1 |\u001b[34m██████████\u001b[0m| 00:02 Sampling completed                      "
     ]
    },
    {
     "name": "stdout",
     "output_type": "stream",
     "text": [
      "                                                                                "
     ]
    },
    {
     "name": "stderr",
     "output_type": "stream",
     "text": [
      "\n",
      "INFO:cmdstanpy:CmdStan done processing.\n"
     ]
    },
    {
     "name": "stdout",
     "output_type": "stream",
     "text": [
      "\n"
     ]
    },
    {
     "data": {
      "image/png": "[encoded data removed]",
      "text/plain": [
       "<Figure size 432x288 with 1 Axes>"
      ]
     },
     "metadata": {
      "needs_background": "light"
     },
     "output_type": "display_data"
    },
    {
     "name": "stderr",
     "output_type": "stream",
     "text": [
      "INFO:cmdstanpy:CmdStan start processing\n",
      "chain 1 |\u001b[34m██████████\u001b[0m| 00:01 Sampling completed                      "
     ]
    },
    {
     "name": "stdout",
     "output_type": "stream",
     "text": [
      "                                                                                "
     ]
    },
    {
     "name": "stderr",
     "output_type": "stream",
     "text": [
      "\n",
      "INFO:cmdstanpy:CmdStan done processing.\n"
     ]
    },
    {
     "name": "stdout",
     "output_type": "stream",
     "text": [
      "\n"
     ]
    },
    {
     "data": {
      "image/png": "[encoded data removed]",
      "text/plain": [
       "<Figure size 432x288 with 1 Axes>"
      ]
     },
     "metadata": {
      "needs_background": "light"
     },
     "output_type": "display_data"
    }
   ],
   "source": [
    "R=1000\n",
    "sigma = [10, 5, 2, 0.75, 0.25]\n",
    "for g in sigma:\n",
    "    data_ppc= dict(N = df.shape[0],\n",
    "                    M = 5,\n",
    "                    X = df.iloc[:,0:5].values,\n",
    "                    sigma=g)\n",
    "    sim_ppc1=model_ppc1.sample(data=data_ppc, \n",
    "                            iter_sampling=R, iter_warmup=0, \n",
    "                            chains=1, \n",
    "                            refresh=R,\n",
    "                            fixed_param=True,\n",
    "                            seed=29042020)\n",
    "    df = sim_ppc1.draws_pd()\n",
    "    df_b = df.loc[:, 'prob_ppc[1]':'prob_ppc[500]']\n",
    "\n",
    "    df_b.plot(kind='hist', bins=20, alpha=0.2, legend = False)\n",
    "    plt.title(f'Sigma: {g}')\n",
    "    plt.show()"
   ]
  },
  {
   "cell_type": "markdown",
   "metadata": {},
   "source": [
    "#### Task 2.\n",
    "\n",
    "1. Edit stan model and create models with different priors. Use original setting and some priors from task 1.\n",
    "2. Fit the model\n",
    "3. Plot the probability of individual outcome:\n",
    "- plot generated paramether theta (prob_pcc): mean with its error bars (plt.errorbar)\n",
    "- to plot its error bars take into consider its 25th, 50th and 75th percentile\n",
    "- also mark the real value of y, by different colored dots (for mean values)\n",
    "    \n",
    "4. Consider if the probability was well captured by each setting"
   ]
  },
  {
   "cell_type": "code",
   "execution_count": null,
   "metadata": {},
   "outputs": [],
   "source": [
    "model = CmdStanModel(stan_file='logistic_regression.stan')"
   ]
  },
  {
   "cell_type": "code",
   "execution_count": 35,
   "metadata": {},
   "outputs": [
    {
     "name": "stderr",
     "output_type": "stream",
     "text": [
      "INFO:cmdstanpy:compiling stan file C:\\Users\\PLFIZMI\\Desktop\\studia\\analiza\\Data-Analytics\\lab6\\logistic_regression_1.stan to exe file C:\\Users\\PLFIZMI\\Desktop\\studia\\analiza\\Data-Analytics\\lab6\\logistic_regression_1.exe\n",
      "INFO:cmdstanpy:compiled model executable: C:\\Users\\PLFIZMI\\Desktop\\studia\\analiza\\Data-Analytics\\lab6\\logistic_regression_1.exe\n",
      "WARNING:cmdstanpy:Stan compiler has produced 2 warnings:\n",
      "WARNING:cmdstanpy:\n",
      "--- Translating Stan model to C++ code ---\n",
      "bin/stanc.exe  --o=C:/Users/PLFIZMI/Desktop/studia/analiza/Data-Analytics/lab6/logistic_regression_1.hpp C:/Users/PLFIZMI/Desktop/studia/analiza/Data-Analytics/lab6/logistic_regression_1.stan\n",
      "Warning in 'C:/Users/PLFIZMI/Desktop/studia/analiza/Data-Analytics/lab6/logistic_regression_1.stan', line 6, column 4: Declaration\n",
      "    of arrays by placing brackets after a variable name is deprecated and\n",
      "    will be removed in Stan 2.32.0. Instead use the array keyword before the\n",
      "    type. This can be changed automatically using the auto-format flag to\n",
      "    stanc\n",
      "Warning in 'C:/Users/PLFIZMI/Desktop/studia/analiza/Data-Analytics/lab6/logistic_regression_1.stan', line 25, column 3: Declaration\n",
      "    of arrays by placing brackets after a variable name is deprecated and\n",
      "    will be removed in Stan 2.32.0. Instead use the array keyword before the\n",
      "    type. This can be changed automatically using the auto-format flag to\n",
      "    stanc\n",
      "\n",
      "--- Compiling, linking C++ code ---\n",
      "g++ -std=c++1y -m64 -D_REENTRANT -Wall -Wno-unused-function -Wno-uninitialized -Wno-unused-but-set-variable -Wno-unused-variable -Wno-sign-compare -Wno-unused-local-typedefs -Wno-int-in-bool-context -Wno-attributes -Wno-ignored-attributes      -I stan/lib/stan_math/lib/tbb_2020.3/include    -O3 -I src -I stan/src -I lib/rapidjson_1.1.0/ -I lib/CLI11-1.9.1/ -I stan/lib/stan_math/ -I stan/lib/stan_math/lib/eigen_3.3.9 -I stan/lib/stan_math/lib/boost_1.75.0 -I stan/lib/stan_math/lib/sundials_6.0.0/include -I stan/lib/stan_math/lib/sundials_6.0.0/src/sundials  -D_USE_MATH_DEFINES  -DBOOST_DISABLE_ASSERTS          -c  -x c++ -o C:/Users/PLFIZMI/Desktop/studia/analiza/Data-Analytics/lab6/logistic_regression_1.o C:/Users/PLFIZMI/Desktop/studia/analiza/Data-Analytics/lab6/logistic_regression_1.hpp\n",
      "g++ -std=c++1y -m64 -D_REENTRANT -Wall -Wno-unused-function -Wno-uninitialized -Wno-unused-but-set-variable -Wno-unused-variable -Wno-sign-compare -Wno-unused-local-typedefs -Wno-int-in-bool-context -Wno-attributes -Wno-ignored-attributes      -I stan/lib/stan_math/lib/tbb_2020.3/include    -O3 -I src -I stan/src -I lib/rapidjson_1.1.0/ -I lib/CLI11-1.9.1/ -I stan/lib/stan_math/ -I stan/lib/stan_math/lib/eigen_3.3.9 -I stan/lib/stan_math/lib/boost_1.75.0 -I stan/lib/stan_math/lib/sundials_6.0.0/include -I stan/lib/stan_math/lib/sundials_6.0.0/src/sundials  -D_USE_MATH_DEFINES  -DBOOST_DISABLE_ASSERTS                -Wl,-L,\"C:/Users/PLFIZMI/Anaconda3/envs/Data/Library/bin/cmdstan/stan/lib/stan_math/lib/tbb\" -Wl,-rpath,\"C:/Users/PLFIZMI/Anaconda3/envs/Data/Library/bin/cmdstan/stan/lib/stan_math/lib/tbb\"      C:/Users/PLFIZMI/Desktop/studia/analiza/Data-Analytics/lab6/logistic_regression_1.o src/cmdstan/main.o  -static-libgcc -static-libstdc++      -Wl,-L,\"C:/Users/PLFIZMI/Anaconda3/envs/Data/Library/bin/cmdstan/stan/lib/stan_math/lib/tbb\" -Wl,-rpath,\"C:/Users/PLFIZMI/Anaconda3/envs/Data/Library/bin/cmdstan/stan/lib/stan_math/lib/tbb\"   stan/lib/stan_math/lib/sundials_6.0.0/lib/libsundials_nvecserial.a stan/lib/stan_math/lib/sundials_6.0.0/lib/libsundials_cvodes.a stan/lib/stan_math/lib/sundials_6.0.0/lib/libsundials_idas.a stan/lib/stan_math/lib/sundials_6.0.0/lib/libsundials_kinsol.a  stan/lib/stan_math/lib/tbb/tbb.dll -o C:/Users/PLFIZMI/Desktop/studia/analiza/Data-Analytics/lab6/logistic_regression_1.exe\n",
      "rm -f C:/Users/PLFIZMI/Desktop/studia/analiza/Data-Analytics/lab6/logistic_regression_1.o\n",
      "\n"
     ]
    },
    {
     "ename": "AttributeError",
     "evalue": "'DataFrame' object has no attribute 'y'",
     "output_type": "error",
     "traceback": [
      "\u001b[1;31m---------------------------------------------------------------------------\u001b[0m",
      "\u001b[1;31mAttributeError\u001b[0m                            Traceback (most recent call last)",
      "\u001b[1;32mc:\\Users\\PLFIZMI\\Desktop\\studia\\analiza\\Data-Analytics\\lab6\\lab5.ipynb Cell 16'\u001b[0m in \u001b[0;36m<cell line: 3>\u001b[1;34m()\u001b[0m\n\u001b[0;32m      <a href='vscode-notebook-cell:/c%3A/Users/PLFIZMI/Desktop/studia/analiza/Data-Analytics/lab6/lab5.ipynb#ch0000019?line=0'>1</a>\u001b[0m model \u001b[39m=\u001b[39m CmdStanModel(stan_file\u001b[39m=\u001b[39m\u001b[39m'\u001b[39m\u001b[39mlogistic_regression_1.stan\u001b[39m\u001b[39m'\u001b[39m)\n\u001b[0;32m      <a href='vscode-notebook-cell:/c%3A/Users/PLFIZMI/Desktop/studia/analiza/Data-Analytics/lab6/lab5.ipynb#ch0000019?line=2'>3</a>\u001b[0m data_dict \u001b[39m=\u001b[39m \u001b[39mdict\u001b[39m(N \u001b[39m=\u001b[39m df\u001b[39m.\u001b[39mshape[\u001b[39m0\u001b[39m],\n\u001b[0;32m      <a href='vscode-notebook-cell:/c%3A/Users/PLFIZMI/Desktop/studia/analiza/Data-Analytics/lab6/lab5.ipynb#ch0000019?line=3'>4</a>\u001b[0m                  M \u001b[39m=\u001b[39m \u001b[39m5\u001b[39m,\n\u001b[0;32m      <a href='vscode-notebook-cell:/c%3A/Users/PLFIZMI/Desktop/studia/analiza/Data-Analytics/lab6/lab5.ipynb#ch0000019?line=4'>5</a>\u001b[0m                  X \u001b[39m=\u001b[39m df\u001b[39m.\u001b[39miloc[:,\u001b[39m0\u001b[39m:\u001b[39m5\u001b[39m]\u001b[39m.\u001b[39mvalues,\n\u001b[1;32m----> <a href='vscode-notebook-cell:/c%3A/Users/PLFIZMI/Desktop/studia/analiza/Data-Analytics/lab6/lab5.ipynb#ch0000019?line=5'>6</a>\u001b[0m                  y \u001b[39m=\u001b[39m df\u001b[39m.\u001b[39;49my\u001b[39m.\u001b[39mvalues\n\u001b[0;32m      <a href='vscode-notebook-cell:/c%3A/Users/PLFIZMI/Desktop/studia/analiza/Data-Analytics/lab6/lab5.ipynb#ch0000019?line=6'>7</a>\u001b[0m                  )\n\u001b[0;32m      <a href='vscode-notebook-cell:/c%3A/Users/PLFIZMI/Desktop/studia/analiza/Data-Analytics/lab6/lab5.ipynb#ch0000019?line=7'>8</a>\u001b[0m fit \u001b[39m=\u001b[39m model\u001b[39m.\u001b[39msample(data\u001b[39m=\u001b[39mdata_dict, seed\u001b[39m=\u001b[39m\u001b[39m4938483\u001b[39m)\n\u001b[0;32m      <a href='vscode-notebook-cell:/c%3A/Users/PLFIZMI/Desktop/studia/analiza/Data-Analytics/lab6/lab5.ipynb#ch0000019?line=8'>9</a>\u001b[0m df_b \u001b[39m=\u001b[39m df\u001b[39m.\u001b[39mloc[:, \u001b[39m'\u001b[39m\u001b[39mbeta[1]\u001b[39m\u001b[39m'\u001b[39m:\u001b[39m'\u001b[39m\u001b[39mbeta[5]\u001b[39m\u001b[39m'\u001b[39m]\n",
      "File \u001b[1;32m~\\Anaconda3\\envs\\Data\\lib\\site-packages\\pandas\\core\\generic.py:5583\u001b[0m, in \u001b[0;36mNDFrame.__getattr__\u001b[1;34m(self, name)\u001b[0m\n\u001b[0;32m   <a href='file:///c%3A/Users/PLFIZMI/Anaconda3/envs/Data/lib/site-packages/pandas/core/generic.py?line=5575'>5576</a>\u001b[0m \u001b[39mif\u001b[39;00m (\n\u001b[0;32m   <a href='file:///c%3A/Users/PLFIZMI/Anaconda3/envs/Data/lib/site-packages/pandas/core/generic.py?line=5576'>5577</a>\u001b[0m     name \u001b[39mnot\u001b[39;00m \u001b[39min\u001b[39;00m \u001b[39mself\u001b[39m\u001b[39m.\u001b[39m_internal_names_set\n\u001b[0;32m   <a href='file:///c%3A/Users/PLFIZMI/Anaconda3/envs/Data/lib/site-packages/pandas/core/generic.py?line=5577'>5578</a>\u001b[0m     \u001b[39mand\u001b[39;00m name \u001b[39mnot\u001b[39;00m \u001b[39min\u001b[39;00m \u001b[39mself\u001b[39m\u001b[39m.\u001b[39m_metadata\n\u001b[0;32m   <a href='file:///c%3A/Users/PLFIZMI/Anaconda3/envs/Data/lib/site-packages/pandas/core/generic.py?line=5578'>5579</a>\u001b[0m     \u001b[39mand\u001b[39;00m name \u001b[39mnot\u001b[39;00m \u001b[39min\u001b[39;00m \u001b[39mself\u001b[39m\u001b[39m.\u001b[39m_accessors\n\u001b[0;32m   <a href='file:///c%3A/Users/PLFIZMI/Anaconda3/envs/Data/lib/site-packages/pandas/core/generic.py?line=5579'>5580</a>\u001b[0m     \u001b[39mand\u001b[39;00m \u001b[39mself\u001b[39m\u001b[39m.\u001b[39m_info_axis\u001b[39m.\u001b[39m_can_hold_identifiers_and_holds_name(name)\n\u001b[0;32m   <a href='file:///c%3A/Users/PLFIZMI/Anaconda3/envs/Data/lib/site-packages/pandas/core/generic.py?line=5580'>5581</a>\u001b[0m ):\n\u001b[0;32m   <a href='file:///c%3A/Users/PLFIZMI/Anaconda3/envs/Data/lib/site-packages/pandas/core/generic.py?line=5581'>5582</a>\u001b[0m     \u001b[39mreturn\u001b[39;00m \u001b[39mself\u001b[39m[name]\n\u001b[1;32m-> <a href='file:///c%3A/Users/PLFIZMI/Anaconda3/envs/Data/lib/site-packages/pandas/core/generic.py?line=5582'>5583</a>\u001b[0m \u001b[39mreturn\u001b[39;00m \u001b[39mobject\u001b[39;49m\u001b[39m.\u001b[39;49m\u001b[39m__getattribute__\u001b[39;49m(\u001b[39mself\u001b[39;49m, name)\n",
      "\u001b[1;31mAttributeError\u001b[0m: 'DataFrame' object has no attribute 'y'"
     ]
    }
   ],
   "source": [
    "data_dict = dict(N = df.shape[0],\n",
    "                 M = 5,\n",
    "                 X = df.iloc[:,0:5].values,\n",
    "                 y = df.y.values\n",
    "                 )\n",
    "fit = model.sample(data=data_dict, seed=4938483)\n",
    "df_b = df.loc[:, 'beta[1]':'beta[5]']\n",
    "\n",
    "df_b.plot(kind='hist', bins=40, alpha=0.2)\n",
    "plt.show()\n",
    "\n",
    "med_prob_ppc = np.percentile(fit.stan_variable('prob_ppc'),[25,50,75],axis=0)\n",
    "estimate_ppc_df = pd.DataFrame(med_prob_ppc.T,columns = ['lo','med','hi'])\n",
    "\n",
    "\n"
   ]
  }
 ],
 "metadata": {
  "kernelspec": {
   "display_name": "Python 3 (ipykernel)",
   "language": "python",
   "name": "python3"
  },
  "language_info": {
   "codemirror_mode": {
    "name": "ipython",
    "version": 3
   },
   "file_extension": ".py",
   "mimetype": "text/x-python",
   "name": "python",
   "nbconvert_exporter": "python",
   "pygments_lexer": "ipython3",
   "version": "3.9.7"
  }
 },
 "nbformat": 4,
 "nbformat_minor": 4
}
